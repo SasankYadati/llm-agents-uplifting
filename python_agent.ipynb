{
 "cells": [
  {
   "cell_type": "code",
   "execution_count": 1,
   "metadata": {},
   "outputs": [
    {
     "name": "stderr",
     "output_type": "stream",
     "text": [
      "c:\\Users\\saisa\\.conda\\envs\\llm-agents-uplifting\\lib\\site-packages\\tqdm\\auto.py:21: TqdmWarning: IProgress not found. Please update jupyter and ipywidgets. See https://ipywidgets.readthedocs.io/en/stable/user_install.html\n",
      "  from .autonotebook import tqdm as notebook_tqdm\n"
     ]
    }
   ],
   "source": [
    "from openai import OpenAI\n",
    "from langchain_core.utils.function_calling import convert_to_openai_tool\n",
    "from langchain.agents import tool\n",
    "from utils import pretty_print_conversation, gpt_process_function_calling"
   ]
  },
  {
   "cell_type": "code",
   "execution_count": 6,
   "metadata": {},
   "outputs": [],
   "source": [
    "client = OpenAI()\n",
    "\n",
    "n_questions = 5\n",
    "\n",
    "sys_prompt = {\n",
    "    \"role\": \"system\",\n",
    "    \"content\": \"You are an agent that responds with only Python code. You will think through step by step and write correct and minimal code.\"\n",
    "}\n",
    "\n",
    "workflow = [\n",
    "    (f\"Write python code to sample {n_questions} questions from cais/MMLU dataset (use 'formal_logic' config) using 'datasets' library.\", []),\n",
    "    # (f\"Ask all {n_questions} questions to each LLM and make each LLM respond with a choice and check their answers. Each LLM should be asked all {n_questions} with their choices.\",[]),\n",
    "    # (\"Calculate the number of correct answers for each model and then calculate the accuracy of each model\", []),\n",
    "    # (\"Report the accuracy of all the models. What is the best model?\", [])\n",
    "]"
   ]
  },
  {
   "cell_type": "code",
   "execution_count": 7,
   "metadata": {},
   "outputs": [
    {
     "name": "stdout",
     "output_type": "stream",
     "text": [
      "\u001b[31msystem: You are an agent that responds with only Python code. You will think through step by step and write correct and minimal code.\n",
      "\u001b[0m\n",
      "\u001b[32muser: Write python code to sample 5 questions from cais/MMLU dataset (use 'formal_logic' config) using 'datasets' library.\n",
      "\u001b[0m\n",
      "\u001b[34massistant: ```python\n",
      "from datasets import load_dataset\n",
      "import random\n",
      "\n",
      "# Load the dataset with the 'formal_logic' configuration\n",
      "dataset = load_dataset('cais/MMLU', 'formal_logic')\n",
      "\n",
      "# Extract the questions from the dataset\n",
      "questions = dataset['train']['question']\n",
      "\n",
      "# Sample 5 questions randomly\n",
      "sampled_questions = random.sample(questions, 5)\n",
      "\n",
      "# Print the sampled questions\n",
      "for question in sampled_questions:\n",
      "    print(question)\n",
      "```\n",
      "\u001b[0m\n"
     ]
    }
   ],
   "source": [
    "messages = []\n",
    "messages.append(sys_prompt)\n",
    "for instruction, functions in workflow:\n",
    "    kwargs = {}\n",
    "    if len(functions) > 0:\n",
    "        functions = [convert_to_openai_tool(tool(f)) for f in functions]\n",
    "        kwargs = {\"tools\": functions}\n",
    "    messages.append({\"role\": \"user\", \"content\": instruction})\n",
    "    output = client.chat.completions.create(model='gpt-3.5-turbo',\n",
    "                                            messages=messages, seed=0,\n",
    "                                            **kwargs)\n",
    "    output = gpt_process_function_calling(output)\n",
    "    messages.append({\"role\": \"assistant\", \"content\": output})\n",
    "pretty_print_conversation(messages)"
   ]
  },
  {
   "cell_type": "code",
   "execution_count": null,
   "metadata": {},
   "outputs": [],
   "source": []
  }
 ],
 "metadata": {
  "kernelspec": {
   "display_name": "llm-agents-uplifting",
   "language": "python",
   "name": "python3"
  },
  "language_info": {
   "codemirror_mode": {
    "name": "ipython",
    "version": 3
   },
   "file_extension": ".py",
   "mimetype": "text/x-python",
   "name": "python",
   "nbconvert_exporter": "python",
   "pygments_lexer": "ipython3",
   "version": "3.10.14"
  }
 },
 "nbformat": 4,
 "nbformat_minor": 2
}
