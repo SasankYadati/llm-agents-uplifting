{
 "cells": [
  {
   "cell_type": "code",
   "execution_count": null,
   "metadata": {},
   "outputs": [],
   "source": [
    "from openai import OpenAI\n",
    "import json\n",
    "from tools import sampleQuestionsFromMMLU, callLLM, calculateAccuracy\n",
    "from utils import pretty_print_conversation, gpt_process_function_calling\n",
    "from langchain_core.utils.function_calling import convert_to_openai_tool\n",
    "from langchain.agents import tool\n",
    "from termcolor import colored "
   ]
  },
  {
   "cell_type": "code",
   "execution_count": null,
   "metadata": {},
   "outputs": [],
   "source": [
    "client = OpenAI()\n",
    "\n",
    "models_to_evaluate = [\"meta/meta-llama-3-8b\", \"meta/llama-2-7b-chat\", \"meta/llama-2-7b\"]\n",
    "\n",
    "n_questions = 5\n",
    "\n",
    "sys_prompt = {\n",
    "    \"role\": \"system\",\n",
    "    \"content\": \"You are an agent that quantitatively evaluates exactly three other LLMs on sample MMLU questions. You will call appropriate functions to achieve this goal.\"\n",
    "}\n",
    "\n",
    "workflow = [\n",
    "    (f\"Sample {n_questions} questions from MMLU dataset.\", [sampleQuestionsFromMMLU]),\n",
    "    (f\"Ask all above {n_questions} questions to the first LLM {models_to_evaluate[0]} and check their answers. LLM should be asked all {n_questions} with their choices.\", [callLLM]),\n",
    "    (f\"Ask all above {n_questions} questions to the first LLM {models_to_evaluate[1]} and check their answers. LLM should be asked all {n_questions} with their choices.\", [callLLM]),\n",
    "    (f\"Ask all above {n_questions} questions to the first LLM {models_to_evaluate[2]} and check their answers. LLM should be asked all {n_questions} with their choices.\", [callLLM]),\n",
    "    (f\"Calculate the number of correct answers for {models_to_evaluate[0]} and then calculate the accuracy of each model\", [calculateAccuracy]),\n",
    "    (f\"Calculate the number of correct answers for {models_to_evaluate[1]} and then calculate the accuracy of each model\", [calculateAccuracy]),\n",
    "    (f\"Calculate the number of correct answers for {models_to_evaluate[2]} and then calculate the accuracy of each model\", [calculateAccuracy]),\n",
    "    (\"Report the accuracy of all the models. What is the best model?\", [])\n",
    "]"
   ]
  },
  {
   "cell_type": "code",
   "execution_count": null,
   "metadata": {},
   "outputs": [],
   "source": [
    "messages = []\n",
    "messages.append(sys_prompt)\n",
    "for instruction, functions in workflow:\n",
    "    kwargs = {}\n",
    "    if len(functions) > 0:\n",
    "        functions = [convert_to_openai_tool(tool(f)) for f in functions]\n",
    "        kwargs = {\"tools\": functions}\n",
    "    messages.append({\"role\": \"user\", \"content\": instruction})\n",
    "    output = client.chat.completions.create(model='gpt-3.5-turbo',\n",
    "                                            messages=messages, seed=0,\n",
    "                                            **kwargs)\n",
    "    output = gpt_process_function_calling(output)\n",
    "    messages.append({\"role\": \"assistant\", \"content\": output})\n",
    "pretty_print_conversation(messages)\n"
   ]
  },
  {
   "cell_type": "code",
   "execution_count": null,
   "metadata": {},
   "outputs": [],
   "source": []
  }
 ],
 "metadata": {
  "kernelspec": {
   "display_name": "llm-agents-uplifting",
   "language": "python",
   "name": "python3"
  },
  "language_info": {
   "codemirror_mode": {
    "name": "ipython",
    "version": 3
   },
   "file_extension": ".py",
   "mimetype": "text/x-python",
   "name": "python",
   "nbconvert_exporter": "python",
   "pygments_lexer": "ipython3",
   "version": "3.10.14"
  }
 },
 "nbformat": 4,
 "nbformat_minor": 2
}
